{
 "cells": [
  {
   "cell_type": "code",
   "execution_count": 1,
   "metadata": {},
   "outputs": [
    {
     "name": "stdout",
     "output_type": "stream",
     "text": [
      "   Z  A   Mass Excess\n",
      "0  0  1   8071.318060\n",
      "1  1  1   7288.971064\n",
      "2  1  2  13135.722895\n",
      "3  1  3  14949.810900\n",
      "4  2  3  14931.218880\n",
      "5  3  3  28667.000000\n",
      "6  1  4  24621.129000\n",
      "7  2  4   2424.915870\n",
      "8  3  4  25323.190000\n",
      "9  1  5  32892.447000\n"
     ]
    }
   ],
   "source": [
    "import urllib.request\n",
    "import re\n",
    "import pandas as pd\n",
    "\n",
    "url = \"https://www.anl.gov/sites/www/files/2021-05/mass_1.mas20.txt\"\n",
    "response = urllib.request.urlopen(url)\n",
    "data = response.read().decode(\"utf-8\")\n",
    "lines = data.splitlines()[36:]\n",
    "columns_with_numbers = []\n",
    "N_values = []\n",
    "Z_values = []\n",
    "A_values = []\n",
    "element_values = []\n",
    "mass_excess_values = []\n",
    "mass_excess_error_values = []\n",
    "binding_energy_values = []\n",
    "binding_energy_values_error = []\n",
    "beta_decay_type = []\n",
    "beta_decay_energy = []\n",
    "beta_decay_energy_error = []\n",
    "atomic_mass = []\n",
    "atomic_mass_error = []\n",
    "for line in lines:\n",
    "    if not line.strip():\n",
    "        continue\n",
    "    \n",
    "    if line.startswith('0'):\n",
    "        line = line[1:]\n",
    "    \n",
    "    columns = re.findall(r\"[-+]?[\\d.]+(?:[eE][-+]?\\d+)?\", line)\n",
    "\n",
    "    columns_with_numbers.append([float(column) for column in columns])\n",
    "    \n",
    "    N_values.append(int(columns[1]))\n",
    "    Z_values.append(int(columns[2]))\n",
    "    A_values.append(int(columns[3]))\n",
    "    element_values.append(re.findall(r\"[A-Za-z]{1,2}\", line)[0])\n",
    "    mass_excess_values.append(float(columns[4]))\n",
    "    mass_excess_error_values.append(float(columns[5]))\n",
    "    binding_energy_values.append(float(columns[6]))\n",
    "    binding_energy_values_error.append(float(columns[7]))\n",
    "    beta_decay_type.append(re.findall(r\"B[+-]{1,2}\", line)[0])\n",
    "    beta_decay_energy.append(float(columns[8]))\n",
    "    beta_decay_energy_error.append(float(columns[9]))\n",
    "    #atomic_mass_error.append(float(columns[11]))\n",
    "\n",
    "\n",
    "\n",
    "data = {\n",
    "    'Z': Z_values,\n",
    "    'A': A_values,\n",
    "    'Mass Excess': mass_excess_values,\n",
    "}\n",
    "df = pd.DataFrame(data)\n",
    "#print first 10 rows\n",
    "print(df.head(10))\n",
    "\n"
   ]
  }
 ],
 "metadata": {
  "kernelspec": {
   "display_name": "Python 3",
   "language": "python",
   "name": "python3"
  },
  "language_info": {
   "codemirror_mode": {
    "name": "ipython",
    "version": 3
   },
   "file_extension": ".py",
   "mimetype": "text/x-python",
   "name": "python",
   "nbconvert_exporter": "python",
   "pygments_lexer": "ipython3",
   "version": "3.10.6"
  },
  "orig_nbformat": 4
 },
 "nbformat": 4,
 "nbformat_minor": 2
}
